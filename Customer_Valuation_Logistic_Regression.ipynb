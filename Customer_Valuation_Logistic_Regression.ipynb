{
  "nbformat": 4,
  "nbformat_minor": 0,
  "metadata": {
    "colab": {
      "provenance": [],
      "authorship_tag": "ABX9TyOzjMFVUgzNGvYktg20K5Xw",
      "include_colab_link": true
    },
    "kernelspec": {
      "name": "python3",
      "display_name": "Python 3"
    },
    "language_info": {
      "name": "python"
    }
  },
  "cells": [
    {
      "cell_type": "markdown",
      "metadata": {
        "id": "view-in-github",
        "colab_type": "text"
      },
      "source": [
        "<a href=\"https://colab.research.google.com/github/AshokYarabati/Customer_Valuation_using_Logistic-Reg./blob/main/Customer_Valuation_Logistic_Regression.ipynb\" target=\"_parent\"><img src=\"https://colab.research.google.com/assets/colab-badge.svg\" alt=\"Open In Colab\"/></a>"
      ]
    },
    {
      "cell_type": "code",
      "execution_count": 23,
      "metadata": {
        "id": "F0Mfat57dM4T"
      },
      "outputs": [],
      "source": [
        "import pandas as pd\n",
        "import numpy as np\n",
        "from sklearn.linear_model import LogisticRegression\n",
        "from sklearn.preprocessing import LabelEncoder"
      ]
    },
    {
      "cell_type": "code",
      "source": [
        "url=\"https://raw.githubusercontent.com/IBM/telco-customer-churn-on-icp4d/master/data/Telco-Customer-Churn.csv\"\n",
        "df=pd.read_csv(url)"
      ],
      "metadata": {
        "id": "K20nOk9HfACZ"
      },
      "execution_count": 24,
      "outputs": []
    },
    {
      "cell_type": "code",
      "source": [
        "print(f\"Shape: {df.shape}\")\n",
        "print(df.columns.tolist())\n",
        "print(df.head(5))"
      ],
      "metadata": {
        "colab": {
          "base_uri": "https://localhost:8080/"
        },
        "id": "s11I9rTOgXIX",
        "outputId": "d04558d5-a2ea-47a5-91d1-9dada7fbad43"
      },
      "execution_count": 26,
      "outputs": [
        {
          "output_type": "stream",
          "name": "stdout",
          "text": [
            "Shape: (7043, 21)\n",
            "['customerID', 'gender', 'SeniorCitizen', 'Partner', 'Dependents', 'tenure', 'PhoneService', 'MultipleLines', 'InternetService', 'OnlineSecurity', 'OnlineBackup', 'DeviceProtection', 'TechSupport', 'StreamingTV', 'StreamingMovies', 'Contract', 'PaperlessBilling', 'PaymentMethod', 'MonthlyCharges', 'TotalCharges', 'Churn']\n",
            "   customerID  gender  SeniorCitizen Partner Dependents  tenure PhoneService  \\\n",
            "0  7590-VHVEG  Female              0     Yes         No       1           No   \n",
            "1  5575-GNVDE    Male              0      No         No      34          Yes   \n",
            "2  3668-QPYBK    Male              0      No         No       2          Yes   \n",
            "3  7795-CFOCW    Male              0      No         No      45           No   \n",
            "4  9237-HQITU  Female              0      No         No       2          Yes   \n",
            "\n",
            "      MultipleLines InternetService OnlineSecurity  ... DeviceProtection  \\\n",
            "0  No phone service             DSL             No  ...               No   \n",
            "1                No             DSL            Yes  ...              Yes   \n",
            "2                No             DSL            Yes  ...               No   \n",
            "3  No phone service             DSL            Yes  ...              Yes   \n",
            "4                No     Fiber optic             No  ...               No   \n",
            "\n",
            "  TechSupport StreamingTV StreamingMovies        Contract PaperlessBilling  \\\n",
            "0          No          No              No  Month-to-month              Yes   \n",
            "1          No          No              No        One year               No   \n",
            "2          No          No              No  Month-to-month              Yes   \n",
            "3         Yes          No              No        One year               No   \n",
            "4          No          No              No  Month-to-month              Yes   \n",
            "\n",
            "               PaymentMethod MonthlyCharges  TotalCharges Churn  \n",
            "0           Electronic check          29.85         29.85    No  \n",
            "1               Mailed check          56.95        1889.5    No  \n",
            "2               Mailed check          53.85        108.15   Yes  \n",
            "3  Bank transfer (automatic)          42.30       1840.75    No  \n",
            "4           Electronic check          70.70        151.65   Yes  \n",
            "\n",
            "[5 rows x 21 columns]\n"
          ]
        }
      ]
    },
    {
      "cell_type": "code",
      "source": [
        "df['TotalCharges'] = pd.to_numeric(df['TotalCharges'], errors='coerce')\n",
        "df = df.dropna()\n",
        "\n",
        "high_value_threshold = df['MonthlyCharges'].quantile(0.7)\n",
        "tenure_threshold = df['tenure'].quantile(0.7)\n",
        "df['high_value'] = ((df['MonthlyCharges'] >= high_value_threshold) &\n",
        "                    (df['tenure'] >= tenure_threshold)).astype(int)\n",
        "\n",
        "print(f\"High value customers: {df['high_value'].sum()} out of {len(df)}\")\n",
        "print(f\"High value rate: {(df['high_value'].mean()*100):.1f}%\")\n",
        "\n",
        "internet_dummies = pd.get_dummies(df['InternetService'], prefix='Internet')\n",
        "contract_dummies = pd.get_dummies(df['Contract'], prefix='Contract')\n",
        "\n",
        "df_processed = pd.concat([\n",
        "    df[['tenure', 'MonthlyCharges', 'TotalCharges', 'SeniorCitizen']],\n",
        "    internet_dummies,\n",
        "    contract_dummies,\n",
        "    df['high_value']\n",
        "], axis=1)\n",
        "\n",
        "print(\"\\nFirst 3 rows:\")\n",
        "print(df_processed.head(3))"
      ],
      "metadata": {
        "id": "qtVIyzQFjBio",
        "colab": {
          "base_uri": "https://localhost:8080/"
        },
        "outputId": "27d57274-c912-462c-e137-1866a251d11b"
      },
      "execution_count": 28,
      "outputs": [
        {
          "output_type": "stream",
          "name": "stdout",
          "text": [
            "High value customers: 987 out of 7032\n",
            "High value rate: 14.0%\n",
            "\n",
            "First 3 rows:\n",
            "   tenure  MonthlyCharges  TotalCharges  SeniorCitizen  Internet_DSL  \\\n",
            "0       1           29.85         29.85              0          True   \n",
            "1      34           56.95       1889.50              0          True   \n",
            "2       2           53.85        108.15              0          True   \n",
            "\n",
            "   Internet_Fiber optic  Internet_No  Contract_Month-to-month  \\\n",
            "0                 False        False                     True   \n",
            "1                 False        False                    False   \n",
            "2                 False        False                     True   \n",
            "\n",
            "   Contract_One year  Contract_Two year  high_value  \n",
            "0              False              False           0  \n",
            "1               True              False           0  \n",
            "2              False              False           0  \n"
          ]
        }
      ]
    },
    {
      "cell_type": "code",
      "source": [
        "X = df_processed.drop('high_value', axis=1)\n",
        "y = df_processed['high_value']\n",
        "\n",
        "print(f\"Features shape: {X.shape}\")\n",
        "print(f\"Target shape: {y.shape}\")\n",
        "\n",
        "\n",
        "from sklearn.model_selection import train_test_split\n",
        "X_train, X_test, y_train, y_test = train_test_split(X, y, test_size=0.2, random_state=42, stratify=y)\n",
        "\n",
        "print(f\"Training set: {X_train.shape[0]} samples\")\n",
        "print(f\"Testing set: {X_test.shape[0]} samples\")\n",
        "\n",
        "\n",
        "from sklearn.linear_model import LogisticRegression\n",
        "model = LogisticRegression(random_state=42, max_iter=1000)\n",
        "model.fit(X_train, y_train)\n",
        "\n",
        "\n",
        "train_score = model.score(X_train, y_train)\n",
        "test_score = model.score(X_test, y_test)\n",
        "\n",
        "print(f\"\\n--- MODEL PERFORMANCE ---\")\n",
        "print(f\"Training Accuracy: {train_score:.3f}\")\n",
        "print(f\"Testing Accuracy: {test_score:.3f}\")\n",
        "\n",
        "probabilities = model.predict_proba(X_test)[:, 1]\n",
        "\n",
        "customer_decisions = []\n",
        "for i, prob in enumerate(probabilities):\n",
        "    if prob > 0.7:\n",
        "        decision = \"PREMIUM ACQUISITION\"\n",
        "    elif prob > 0.4:\n",
        "        decision = \"STANDARD ACQUISITION\"\n",
        "    else:\n",
        "        decision = \"BASIC ACQUISITION\"\n",
        "\n",
        "    customer_decisions.append({\n",
        "        'Customer_ID': X_test.index[i],\n",
        "        'High_Value_Probability': round(prob, 3),\n",
        "        'Recommended_Action': decision\n",
        "    })\n",
        "\n",
        "\n",
        "results_df = pd.DataFrame(customer_decisions)\n",
        "print(\"Customer Acquisition Recommendations:\")\n",
        "print(results_df.head(10))\n"
      ],
      "metadata": {
        "id": "nCaSC3v1kSYQ",
        "colab": {
          "base_uri": "https://localhost:8080/"
        },
        "outputId": "30c51153-d8b9-48bb-9774-5ca01dc87885"
      },
      "execution_count": 29,
      "outputs": [
        {
          "output_type": "stream",
          "name": "stdout",
          "text": [
            "Features shape: (7032, 10)\n",
            "Target shape: (7032,)\n",
            "Training set: 5625 samples\n",
            "Testing set: 1407 samples\n",
            "\n",
            "--- MODEL PERFORMANCE ---\n",
            "Training Accuracy: 0.975\n",
            "Testing Accuracy: 0.978\n",
            "Customer Acquisition Recommendations:\n",
            "   Customer_ID  High_Value_Probability   Recommended_Action\n",
            "0         1775                   1.000  PREMIUM ACQUISITION\n",
            "1         1529                   0.000    BASIC ACQUISITION\n",
            "2         3812                   0.000    BASIC ACQUISITION\n",
            "3         3310                   0.000    BASIC ACQUISITION\n",
            "4         3336                   0.000    BASIC ACQUISITION\n",
            "5         2284                   0.000    BASIC ACQUISITION\n",
            "6         3208                   0.001    BASIC ACQUISITION\n",
            "7         1010                   0.000    BASIC ACQUISITION\n",
            "8         6429                   0.007    BASIC ACQUISITION\n",
            "9         5586                   0.000    BASIC ACQUISITION\n"
          ]
        }
      ]
    },
    {
      "cell_type": "code",
      "source": [],
      "metadata": {
        "id": "A6aWB-3KeJD0"
      },
      "execution_count": null,
      "outputs": []
    }
  ]
}